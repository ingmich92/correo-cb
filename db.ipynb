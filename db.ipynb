{
 "cells": [
  {
   "cell_type": "code",
   "execution_count": null,
   "metadata": {},
   "outputs": [],
   "source": [
    "import psycopg2\n",
    "import pandas as pd"
   ]
  },
  {
   "cell_type": "code",
   "execution_count": null,
   "metadata": {},
   "outputs": [],
   "source": [
    "# Conexion a BDD\n",
    "HOST = \"creze-aws-aurora-cluster.cluster-cmiufpwtxjkk.us-east-1.rds.amazonaws.com\"\n",
    "PORT = \"5432\"\n",
    "USER = \"data\"\n",
    "PASS = \"zW.B@/(7+Q,Yt/Kgyg#\"\n",
    "DB = \"creze\"\n",
    "\n",
    "connstr = \"host=%s port=%s user=%s password=%s dbname=%s\" % (\n",
    "    HOST, PORT, USER, PASS, DB)\n",
    "conn = psycopg2.connect(connstr)\n"
   ]
  },
  {
   "cell_type": "code",
   "execution_count": null,
   "metadata": {},
   "outputs": [],
   "source": [
    "df = pd.read_sql(\"select bo.folio, bo.razon_social, pa.pago_total, pa.no_pago , pa.fecha_pago, \" \n",
    "                 +\"concat(nombres,' ',apellido_paterno,' ',apellido_materno) as nombre \"\n",
    "                 +\"from cobranza.base_originacion bo \"\n",
    "                 +\"inner join cobranza.pago_amortizacion pa on bo.folio = pa.folio \"\n",
    "                 +\"inner join cobranza.clientes c on pa.id_cliente  = c.id_cliente \"\n",
    "                 +\"where bo.folio in ('C12137CC6358') and pagos = 0 \"\n",
    "                 +\"order by pa.no_pago asc limit 1\",conn)"
   ]
  },
  {
   "cell_type": "code",
   "execution_count": null,
   "metadata": {},
   "outputs": [],
   "source": [
    "df"
   ]
  },
  {
   "cell_type": "code",
   "execution_count": null,
   "metadata": {},
   "outputs": [],
   "source": [
    "folio = df['folio'].values[0]\n",
    "razon_social = df['razon_social'].values[0]\n",
    "pago = df['pago_total'].values[0]\n",
    "nombre = df['nombre'].values[0]\n",
    "fecha = df['fecha_pago'].values[0]"
   ]
  },
  {
   "cell_type": "code",
   "execution_count": null,
   "metadata": {},
   "outputs": [],
   "source": [
    "print('Folio:',folio)\n",
    "print('razon_social:',razon_social)\n",
    "print('pago:',pago)\n",
    "print('nombre:',nombre)\n",
    "print('fecha:',fecha)"
   ]
  }
 ],
 "metadata": {
  "kernelspec": {
   "display_name": "Python 3",
   "language": "python",
   "name": "python3"
  },
  "language_info": {
   "codemirror_mode": {
    "name": "ipython",
    "version": 3
   },
   "file_extension": ".py",
   "mimetype": "text/x-python",
   "name": "python",
   "nbconvert_exporter": "python",
   "pygments_lexer": "ipython3",
   "version": "3.11.0"
  },
  "orig_nbformat": 4
 },
 "nbformat": 4,
 "nbformat_minor": 2
}
