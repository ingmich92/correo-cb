{
 "cells": [
  {
   "cell_type": "code",
   "execution_count": 4,
   "metadata": {},
   "outputs": [],
   "source": [
    "import psycopg2\n",
    "import pandas as pd"
   ]
  },
  {
   "cell_type": "code",
   "execution_count": 8,
   "metadata": {},
   "outputs": [],
   "source": [
    "# Conexion a BDD\n",
    "HOST = \"creze-aws-aurora-cluster.cluster-cmiufpwtxjkk.us-east-1.rds.amazonaws.com\"\n",
    "PORT = \"5432\"\n",
    "USER = \"data\"\n",
    "PASS = \"zW.B@/(7+Q,Yt/Kgyg#\"\n",
    "DB = \"creze\"\n",
    "\n",
    "connstr = \"host=%s port=%s user=%s password=%s dbname=%s\" % (\n",
    "    HOST, PORT, USER, PASS, DB)\n",
    "conn = psycopg2.connect(connstr)\n"
   ]
  },
  {
   "cell_type": "code",
   "execution_count": 11,
   "metadata": {},
   "outputs": [
    {
     "name": "stderr",
     "output_type": "stream",
     "text": [
      "C:\\Users\\Ing Michel\\AppData\\Local\\Temp\\ipykernel_6044\\1587122667.py:1: UserWarning: pandas only supports SQLAlchemy connectable (engine/connection) or database string URI or sqlite3 DBAPI2 connection. Other DBAPI2 objects are not tested. Please consider using SQLAlchemy.\n",
      "  df = pd.read_sql(\"select * from cobranza.pago_amortizacion pa \"\n"
     ]
    }
   ],
   "source": [
    "df = pd.read_sql(\"select * from cobranza.pago_amortizacion pa \"\n",
    "                 +\"where folio in ('C12137CC6358') and no_pago = 11\",conn)"
   ]
  },
  {
   "cell_type": "code",
   "execution_count": 12,
   "metadata": {},
   "outputs": [
    {
     "data": {
      "text/html": [
       "<div>\n",
       "<style scoped>\n",
       "    .dataframe tbody tr th:only-of-type {\n",
       "        vertical-align: middle;\n",
       "    }\n",
       "\n",
       "    .dataframe tbody tr th {\n",
       "        vertical-align: top;\n",
       "    }\n",
       "\n",
       "    .dataframe thead th {\n",
       "        text-align: right;\n",
       "    }\n",
       "</style>\n",
       "<table border=\"1\" class=\"dataframe\">\n",
       "  <thead>\n",
       "    <tr style=\"text-align: right;\">\n",
       "      <th></th>\n",
       "      <th>id_ta</th>\n",
       "      <th>id_cliente</th>\n",
       "      <th>id_contrato</th>\n",
       "      <th>folio</th>\n",
       "      <th>no_pago</th>\n",
       "      <th>saldo_inicio</th>\n",
       "      <th>fecha_pago</th>\n",
       "      <th>fecha_pago_anterior</th>\n",
       "      <th>pago_total</th>\n",
       "      <th>pago_capital</th>\n",
       "      <th>...</th>\n",
       "      <th>id_bc</th>\n",
       "      <th>fecha_dep</th>\n",
       "      <th>dep_tot</th>\n",
       "      <th>dep_mxc</th>\n",
       "      <th>id_bmcd</th>\n",
       "      <th>dep_inte</th>\n",
       "      <th>dep_anti</th>\n",
       "      <th>dep_capi</th>\n",
       "      <th>num_amortizaciones</th>\n",
       "      <th>tasa_diaria_interes</th>\n",
       "    </tr>\n",
       "  </thead>\n",
       "  <tbody>\n",
       "    <tr>\n",
       "      <th>0</th>\n",
       "      <td>121685</td>\n",
       "      <td>5349</td>\n",
       "      <td>4696</td>\n",
       "      <td>C12137CC6358</td>\n",
       "      <td>11</td>\n",
       "      <td>423252.19</td>\n",
       "      <td>2023-03-31</td>\n",
       "      <td>2023-02-28</td>\n",
       "      <td>56057.55</td>\n",
       "      <td>34494.47</td>\n",
       "      <td>...</td>\n",
       "      <td>None</td>\n",
       "      <td>None</td>\n",
       "      <td>None</td>\n",
       "      <td>None</td>\n",
       "      <td>None</td>\n",
       "      <td>None</td>\n",
       "      <td>None</td>\n",
       "      <td>None</td>\n",
       "      <td>20</td>\n",
       "      <td>0.001387</td>\n",
       "    </tr>\n",
       "  </tbody>\n",
       "</table>\n",
       "<p>1 rows × 38 columns</p>\n",
       "</div>"
      ],
      "text/plain": [
       "    id_ta  id_cliente  id_contrato         folio  no_pago  saldo_inicio  \\\n",
       "0  121685        5349         4696  C12137CC6358       11     423252.19   \n",
       "\n",
       "   fecha_pago fecha_pago_anterior  pago_total  pago_capital  ...  id_bc  \\\n",
       "0  2023-03-31          2023-02-28    56057.55      34494.47  ...   None   \n",
       "\n",
       "   fecha_dep  dep_tot  dep_mxc  id_bmcd  dep_inte dep_anti dep_capi  \\\n",
       "0       None     None     None     None      None     None     None   \n",
       "\n",
       "  num_amortizaciones tasa_diaria_interes  \n",
       "0                 20            0.001387  \n",
       "\n",
       "[1 rows x 38 columns]"
      ]
     },
     "execution_count": 12,
     "metadata": {},
     "output_type": "execute_result"
    }
   ],
   "source": [
    "df"
   ]
  },
  {
   "cell_type": "code",
   "execution_count": 13,
   "metadata": {},
   "outputs": [
    {
     "name": "stderr",
     "output_type": "stream",
     "text": [
      "C:\\Users\\Ing Michel\\AppData\\Local\\Temp\\ipykernel_6044\\108034852.py:1: UserWarning: pandas only supports SQLAlchemy connectable (engine/connection) or database string URI or sqlite3 DBAPI2 connection. Other DBAPI2 objects are not tested. Please consider using SQLAlchemy.\n",
      "  df_2 = pd.read_sql(\"select * from cobranza.base_originacion bo \"\n"
     ]
    }
   ],
   "source": [
    "df_2 = pd.read_sql(\"select * from cobranza.base_originacion bo \"\n",
    "                 +\"where folio in ('C12137CC6358')\",conn)"
   ]
  },
  {
   "cell_type": "code",
   "execution_count": 14,
   "metadata": {},
   "outputs": [
    {
     "data": {
      "text/html": [
       "<div>\n",
       "<style scoped>\n",
       "    .dataframe tbody tr th:only-of-type {\n",
       "        vertical-align: middle;\n",
       "    }\n",
       "\n",
       "    .dataframe tbody tr th {\n",
       "        vertical-align: top;\n",
       "    }\n",
       "\n",
       "    .dataframe thead th {\n",
       "        text-align: right;\n",
       "    }\n",
       "</style>\n",
       "<table border=\"1\" class=\"dataframe\">\n",
       "  <thead>\n",
       "    <tr style=\"text-align: right;\">\n",
       "      <th></th>\n",
       "      <th>mes</th>\n",
       "      <th>folio</th>\n",
       "      <th>vintage</th>\n",
       "      <th>vintage2</th>\n",
       "      <th>monto_operado</th>\n",
       "      <th>capital_re_ant</th>\n",
       "      <th>monto_neto</th>\n",
       "      <th>status</th>\n",
       "      <th>categoria_a</th>\n",
       "      <th>status_anterior</th>\n",
       "      <th>...</th>\n",
       "      <th>tasa_monto</th>\n",
       "      <th>plazo_monto</th>\n",
       "      <th>razon_social</th>\n",
       "      <th>email_particular</th>\n",
       "      <th>from_canal</th>\n",
       "      <th>from_tipo</th>\n",
       "      <th>responsable</th>\n",
       "      <th>fecha_contrato</th>\n",
       "      <th>deal</th>\n",
       "      <th>categoria</th>\n",
       "    </tr>\n",
       "  </thead>\n",
       "  <tbody>\n",
       "    <tr>\n",
       "      <th>0</th>\n",
       "      <td>2023-03</td>\n",
       "      <td>C12137CC6358</td>\n",
       "      <td>2022-04</td>\n",
       "      <td>Abr-2022</td>\n",
       "      <td>700000.0</td>\n",
       "      <td>None</td>\n",
       "      <td>700000.0</td>\n",
       "      <td>Nuevo</td>\n",
       "      <td>None</td>\n",
       "      <td>Nuevo</td>\n",
       "      <td>...</td>\n",
       "      <td>217000.0</td>\n",
       "      <td>14000000.0</td>\n",
       "      <td>MAQUINARIA Y EQUIPOS DE TERRACERIA SA DE CV</td>\n",
       "      <td>met.sa@hotmail.com</td>\n",
       "      <td>OFFLINE</td>\n",
       "      <td>OTHER PAID</td>\n",
       "      <td>FABIAN</td>\n",
       "      <td>2022-04-29</td>\n",
       "      <td>0.04</td>\n",
       "      <td>Unsecured</td>\n",
       "    </tr>\n",
       "  </tbody>\n",
       "</table>\n",
       "<p>1 rows × 27 columns</p>\n",
       "</div>"
      ],
      "text/plain": [
       "       mes         folio  vintage  vintage2  monto_operado capital_re_ant  \\\n",
       "0  2023-03  C12137CC6358  2022-04  Abr-2022       700000.0           None   \n",
       "\n",
       "   monto_neto  status categoria_a status_anterior  ...  tasa_monto  \\\n",
       "0    700000.0  Nuevo         None           Nuevo  ...    217000.0   \n",
       "\n",
       "   plazo_monto                                 razon_social  \\\n",
       "0   14000000.0  MAQUINARIA Y EQUIPOS DE TERRACERIA SA DE CV   \n",
       "\n",
       "     email_particular from_canal   from_tipo  responsable  fecha_contrato  \\\n",
       "0  met.sa@hotmail.com    OFFLINE  OTHER PAID       FABIAN      2022-04-29   \n",
       "\n",
       "   deal  categoria  \n",
       "0  0.04  Unsecured  \n",
       "\n",
       "[1 rows x 27 columns]"
      ]
     },
     "execution_count": 14,
     "metadata": {},
     "output_type": "execute_result"
    }
   ],
   "source": [
    "df_2"
   ]
  },
  {
   "cell_type": "code",
   "execution_count": 28,
   "metadata": {},
   "outputs": [],
   "source": [
    "razon = df_2['razon_social'].values[0]"
   ]
  },
  {
   "cell_type": "code",
   "execution_count": 29,
   "metadata": {},
   "outputs": [
    {
     "name": "stdout",
     "output_type": "stream",
     "text": [
      "Hola soy la empresa: MAQUINARIA Y EQUIPOS DE TERRACERIA SA DE CV\n"
     ]
    }
   ],
   "source": [
    "print('Hola soy la empresa:',razon)"
   ]
  }
 ],
 "metadata": {
  "kernelspec": {
   "display_name": "Python 3",
   "language": "python",
   "name": "python3"
  },
  "language_info": {
   "codemirror_mode": {
    "name": "ipython",
    "version": 3
   },
   "file_extension": ".py",
   "mimetype": "text/x-python",
   "name": "python",
   "nbconvert_exporter": "python",
   "pygments_lexer": "ipython3",
   "version": "3.11.0"
  },
  "orig_nbformat": 4
 },
 "nbformat": 4,
 "nbformat_minor": 2
}
